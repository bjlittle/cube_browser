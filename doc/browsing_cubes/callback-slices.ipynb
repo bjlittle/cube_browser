{
 "cells": [
  {
   "cell_type": "code",
   "execution_count": null,
   "metadata": {
    "collapsed": false
   },
   "outputs": [],
   "source": [
    "from cartopy import crs as ccrs\n",
    "import iris\n",
    "import iris.plot as iplt\n",
    "import matplotlib.pyplot as plt\n",
    "import matplotlib.ticker as ticker\n",
    "import numpy as np\n",
    "\n",
    "from cube_browser import Browser, Pcolormesh"
   ]
  },
  {
   "cell_type": "code",
   "execution_count": null,
   "metadata": {
    "collapsed": false
   },
   "outputs": [],
   "source": [
    "cube = iris.load_cube(iris.sample_data_path('colpex.pp'), 'air_potential_temperature')"
   ]
  },
  {
   "cell_type": "code",
   "execution_count": null,
   "metadata": {
    "collapsed": false
   },
   "outputs": [],
   "source": [
    "print cube"
   ]
  },
  {
   "cell_type": "code",
   "execution_count": null,
   "metadata": {
    "collapsed": false
   },
   "outputs": [],
   "source": [
    "def callback1(axes, plot, slider):\n",
    "    name, index = slider\n",
    "    cube = plot.cube\n",
    "    glon = cube.coord('grid_longitude')\n",
    "    glat = cube.coord('grid_latitude')\n",
    "    mln = plot.subcube.coord('model_level_number').points[0]\n",
    "    xmin, xmax = glon.points[0], glon.points[-1]\n",
    "    ymin, ymax = glat.points[0], glat.points[-1]\n",
    "    plt.sca(axes)\n",
    "    projection = iplt.default_projection(cube)\n",
    "    title = cube.name().replace('_', ' ').capitalize()\n",
    "    axes.set_title('{} @ mln {}'.format(title, mln), fontsize=11)\n",
    "    if name == 'grid_latitude':\n",
    "        y = glat.points[index]\n",
    "        plt.plot([xmin, xmax], [y, y], transform=projection, color='black', linewidth=2)\n",
    "    else:\n",
    "        x = glon.points[index]\n",
    "        plt.plot([x, x], [ymin, ymax], transform=projection, color='black', linewidth=2)"
   ]
  },
  {
   "cell_type": "code",
   "execution_count": null,
   "metadata": {
    "collapsed": true
   },
   "outputs": [],
   "source": [
    "def callback2(axes, plot, slider):\n",
    "    name, index = slider\n",
    "    cube = plot.cube\n",
    "    glon = cube.coord('grid_longitude')\n",
    "    glat = plot.subcube.coord('grid_latitude').points[0]\n",
    "    mln = cube.coord('model_level_number')\n",
    "    xmin, xmax = glon.points[0], glon.points[-1]\n",
    "    zmin, zmax = mln.points[0] - 0.5, mln.points[-1] + 0.5\n",
    "    z = mln.points[index]\n",
    "    plt.sca(axes)\n",
    "    title = cube.name().replace('_', ' ').capitalize()\n",
    "    axes.set_title('{} @ glat {:.2f}'.format(title, glat), fontsize=11)\n",
    "    axes.set_xlabel('Grid Longitude / {}'.format(glon.units))\n",
    "    axes.set_ylabel('Model Level Number')\n",
    "    axes.set_xlim([xmin, xmax])\n",
    "    axes.set_ylim([zmin, zmax])\n",
    "    axes.set_aspect((xmax - xmin) / (zmax - zmin))\n",
    "    xaxis = axes.get_xaxis()\n",
    "    xaxis.set_major_locator(ticker.MaxNLocator(5))\n",
    "    xaxis.set_major_formatter(ticker.FormatStrFormatter('%0.1f'))\n",
    "    plt.plot([xmin, xmax], [z, z], color='black', linewidth=2)"
   ]
  },
  {
   "cell_type": "code",
   "execution_count": null,
   "metadata": {
    "collapsed": true
   },
   "outputs": [],
   "source": [
    "def callback3(axes, plot, slider):\n",
    "    name, index = slider\n",
    "    cube = plot.cube\n",
    "    glon = plot.subcube.coord('grid_longitude').points[0]\n",
    "    glat = cube.coord('grid_latitude')\n",
    "    mln = cube.coord('model_level_number')\n",
    "    ymin, ymax = glat.points[0], glat.points[-1]\n",
    "    zmin, zmax = mln.points[0] - 0.5, mln.points[-1] + 0.5\n",
    "    z = mln.points[index]\n",
    "    plt.sca(axes)\n",
    "    title = cube.name().replace('_', ' ').capitalize()\n",
    "    axes.set_title('{} @ glon {:.2f}'.format(title, glon), fontsize=11)\n",
    "    axes.set_xlabel('Grid Latitude / {}'.format(glat.units))\n",
    "    axes.set_ylabel('Model Level Number')\n",
    "    axes.set_xlim([ymin, ymax])\n",
    "    axes.set_ylim([zmin, zmax])\n",
    "    axes.set_aspect((ymax - ymin) / (zmax - zmin))\n",
    "    xaxis = axes.get_xaxis()\n",
    "    xaxis.set_major_locator(ticker.MaxNLocator(5))\n",
    "    xaxis.set_major_formatter(ticker.FormatStrFormatter('%0.1f'))\n",
    "    plt.plot([ymin, ymax], [z, z], color='black', linewidth=2)"
   ]
  },
  {
   "cell_type": "code",
   "execution_count": null,
   "metadata": {
    "collapsed": false
   },
   "outputs": [],
   "source": [
    "projection = iplt.default_projection(cube)\n",
    "\n",
    "vmin, vmax = 277.0, 290.0\n",
    "\n",
    "plt.figure(figsize=(9, 7))\n",
    "ax1 = plt.subplot(221, projection=projection)\n",
    "ax2 = plt.subplot(223)\n",
    "ax3 = plt.subplot(224)\n",
    "\n",
    "title = '{} / {}'.format(cube.name().replace('_', ' ').capitalize(), cube.units)\n",
    "sm = plt.cm.ScalarMappable(norm=plt.Normalize(vmin=vmin, vmax=vmax))\n",
    "sm.set_array([])\n",
    "plt.subplots_adjust(bottom=0.2, left=0.1, right=0.9)\n",
    "cax = plt.axes([0.1, 0.08, 0.8, 0.025])\n",
    "plt.colorbar(sm, cax=cax, label=title, orientation='horizontal')\n",
    "\n",
    "cf1 = Pcolormesh(cube, ax1, vmin=vmin, vmax=vmax)\n",
    "coords = ('grid_longitude', 'model_level_number')\n",
    "cf2 = Pcolormesh(cube, ax2, coords=coords, vmin=vmin, vmax=vmax)\n",
    "coords = ('grid_latitude', 'model_level_number')\n",
    "cf3 = Pcolormesh(cube, ax3, coords=coords, vmin=vmin, vmax=vmax)\n",
    "\n",
    "br = Browser([cf1, cf2, cf3])\n",
    "br.on_change(ax1, callback1, sliders=['grid_latitude', 'grid_longitude'])\n",
    "br.on_change(ax2, callback2, sliders='model_level_number')\n",
    "br.on_change(ax3, callback3, sliders='model_level_number')\n",
    "br.display()"
   ]
  },
  {
   "cell_type": "code",
   "execution_count": null,
   "metadata": {
    "collapsed": true
   },
   "outputs": [],
   "source": []
  }
 ],
 "metadata": {
  "kernelspec": {
   "display_name": "Python 2",
   "language": "python",
   "name": "python2"
  },
  "language_info": {
   "codemirror_mode": {
    "name": "ipython",
    "version": 2
   },
   "file_extension": ".py",
   "mimetype": "text/x-python",
   "name": "python",
   "nbconvert_exporter": "python",
   "pygments_lexer": "ipython2",
   "version": "2.7.11"
  },
  "widgets": {
   "state": {
    "0b8124a4392c4f7cba7858d509a0d4f1": {
     "views": []
    },
    "1bf5c56837634f31bb8bd9016587949f": {
     "views": []
    },
    "53801ef6ff1b4be893023498c6ed0541": {
     "views": []
    },
    "5db5f26ef1464da3bbf8a94f7e305605": {
     "views": []
    },
    "94ce41a343d044bfa18204816e50ea7b": {
     "views": []
    },
    "a126d820cf794564ae308ff1a8279ced": {
     "views": []
    },
    "ccde4731c07e40f9abbc806c7e1e15f3": {
     "views": []
    },
    "d9ea6830486844128705e6f0fbe627b6": {
     "views": []
    },
    "f3168d68afbf454c8421d09b62da54d1": {
     "views": []
    },
    "f45185c7d4784309945bf0515c50b314": {
     "views": []
    }
   },
   "version": "1.1.2"
  }
 },
 "nbformat": 4,
 "nbformat_minor": 0
}
